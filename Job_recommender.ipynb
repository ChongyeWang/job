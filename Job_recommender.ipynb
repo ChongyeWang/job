{
  "nbformat": 4,
  "nbformat_minor": 0,
  "metadata": {
    "colab": {
      "provenance": [],
      "mount_file_id": "https://github.com/ChongyeWang/job/blob/main/Job_recommender.ipynb",
      "authorship_tag": "ABX9TyOg91bCyP/BZH8+TjNy0HAa",
      "include_colab_link": true
    },
    "kernelspec": {
      "name": "python3",
      "display_name": "Python 3"
    },
    "language_info": {
      "name": "python"
    }
  },
  "cells": [
    {
      "cell_type": "markdown",
      "metadata": {
        "id": "view-in-github",
        "colab_type": "text"
      },
      "source": [
        "<a href=\"https://colab.research.google.com/github/ChongyeWang/job/blob/main/Job_recommender.ipynb\" target=\"_parent\"><img src=\"https://colab.research.google.com/assets/colab-badge.svg\" alt=\"Open In Colab\"/></a>"
      ]
    },
    {
      "cell_type": "code",
      "execution_count": null,
      "metadata": {
        "colab": {
          "base_uri": "https://localhost:8080/"
        },
        "id": "imd7fZ_VnSMR",
        "outputId": "15a061e0-bf77-4b39-d7f1-6e05f789fe68"
      },
      "outputs": [
        {
          "output_type": "stream",
          "name": "stderr",
          "text": [
            "<ipython-input-15-c93932349228>:16: FutureWarning: A value is trying to be set on a copy of a DataFrame or Series through chained assignment using an inplace method.\n",
            "The behavior will change in pandas 3.0. This inplace method will never work because the intermediate object on which we are setting values always behaves as a copy.\n",
            "\n",
            "For example, when doing 'df[col].method(value, inplace=True)', try using 'df.method({col: value}, inplace=True)' or df[col] = df[col].method(value) instead, to perform the operation inplace on the original object.\n",
            "\n",
            "\n",
            "  df[\"skills_desc\"].fillna(df[\"title\"].astype(str) + \" \" + df[\"description\"].astype(str), inplace=True)\n"
          ]
        },
        {
          "output_type": "stream",
          "name": "stdout",
          "text": [
            "Dataset cleaned and saved as short_cleaned_postings_1.csv\n"
          ]
        }
      ],
      "source": [
        "# DATA CLEANING\n",
        "\n",
        "import pandas as pd\n",
        "import numpy as np\n",
        "import re\n",
        "from datetime import datetime\n",
        "\n",
        "# Load dataset (update the filename if necessary)\n",
        "df = pd.read_csv(\"drive/MyDrive/short_cleaned_postings.csv\")\n",
        "\n",
        "# 1. Remove duplicates\n",
        "df.drop_duplicates(inplace=True)\n",
        "\n",
        "# 2. Handle missing values\n",
        "# Fill missing skill descriptions with job title + description if available\n",
        "df[\"skills_desc\"].fillna(df[\"title\"].astype(str) + \" \" + df[\"description\"].astype(str), inplace=True)\n",
        "df.dropna(subset=[\"skills_desc\"], inplace=True)  # Drop rows where skills_desc is still missing\n",
        "\n",
        "# 3. Convert salary to numerical\n",
        "def convert_salary(row):\n",
        "    if row[\"pay_period\"] == \"HOURLY\":\n",
        "        return row[\"max_salary\"] * 2080  # Convert hourly wage to annual\n",
        "    return row[\"max_salary\"]  # Assume yearly salary is already in the right format\n",
        "\n",
        "df[\"normalized_salary\"] = df.apply(lambda row: convert_salary(row) if not pd.isnull(row[\"max_salary\"]) else np.nan, axis=1)\n",
        "\n",
        "# 4. Convert dates from scientific notation to readable format\n",
        "def convert_timestamp(ts):\n",
        "    try:\n",
        "        return datetime.utcfromtimestamp(float(ts) / 1e3).strftime('%Y-%m-%d')\n",
        "    except:\n",
        "        return np.nan\n",
        "\n",
        "df[\"listed_time\"] = df[\"listed_time\"].apply(convert_timestamp)\n",
        "\n",
        "def clean_text(text):\n",
        "    if isinstance(text, str):\n",
        "        text = text.lower()  # Convert to lowercase\n",
        "        text = re.sub(r\"[^a-z0-9 ]\", \"\", text)  # Remove special characters\n",
        "        return text\n",
        "    return \"\"\n",
        "\n",
        "# 5. Normalize text fields\n",
        "df[\"title\"] = df[\"title\"].apply(clean_text)\n",
        "df[\"description\"] = df[\"description\"].apply(clean_text)\n",
        "df[\"skills_desc\"] = df[\"skills_desc\"].apply(clean_text)\n",
        "\n",
        "# Save cleaned dataset\n",
        "df.to_csv(\"short_cleaned_postings_1.csv\", index=False)\n",
        "print(\"Dataset cleaned and saved as short_cleaned_postings_1.csv\")\n"
      ]
    },
    {
      "cell_type": "code",
      "source": [],
      "metadata": {
        "id": "chMpPiUBvfyP"
      },
      "execution_count": null,
      "outputs": []
    },
    {
      "cell_type": "code",
      "source": [
        "# to fill the missing values in max_salary\n",
        "import pandas as pd\n",
        "import numpy as np\n",
        "\n",
        "# Load dataset\n",
        "df = pd.read_csv(\"drive/MyDrive/short_cleaned_postings.csv\")\n",
        "\n",
        "# Ensure max_salary is numeric\n",
        "df['max_salary'] = pd.to_numeric(df['max_salary'], errors='coerce')\n",
        "\n",
        "# Get the non-null salary values\n",
        "existing_salaries = df['max_salary'].dropna().values\n",
        "\n",
        "# Number of missing values\n",
        "num_missing = df['max_salary'].isnull().sum()\n",
        "\n",
        "# Randomly sample values to fill the missing ones\n",
        "random_salaries = np.random.choice(existing_salaries, size=num_missing)\n",
        "\n",
        "# Fill missing values\n",
        "df.loc[df['max_salary'].isnull(), 'max_salary'] = random_salaries\n",
        "\n",
        "# Optional: Save the updated max_salary column only\n",
        "df[['max_salary']].to_csv(\"updated_max_salary_only.csv\", index=False)\n",
        "\n",
        "# Or if you want the full dataset updated\n",
        "df.to_csv(\"short_cleaned_postings_filled.csv\", index=False)\n",
        "\n",
        "print(\"✅ Missing 'max_salary' values filled randomly and saved.\")\n"
      ],
      "metadata": {
        "colab": {
          "base_uri": "https://localhost:8080/"
        },
        "id": "2BFiATy9uQYo",
        "outputId": "64878d3f-40cf-4d27-a1df-361b21b2c0a4"
      },
      "execution_count": null,
      "outputs": [
        {
          "output_type": "stream",
          "name": "stdout",
          "text": [
            "✅ Missing 'max_salary' values filled randomly and saved.\n"
          ]
        }
      ]
    },
    {
      "cell_type": "markdown",
      "source": [
        "# The Actual Recommendation Model - Sentence Transformer"
      ],
      "metadata": {
        "id": "hzD-VOFpvnlG"
      }
    },
    {
      "cell_type": "code",
      "source": [
        "import pandas as pd\n",
        "# import fitz  # PyMuPDF\n",
        "from sentence_transformers import SentenceTransformer, util\n",
        "! pip install pdf2docx  # this is a library which is used to convert the pdf into word\n",
        "\n",
        "\n",
        "\n",
        "\n",
        "# Load dataset\n",
        "df = pd.read_csv(\"/content/drive/MyDrive/short_cleaned_postings.csv\")\n",
        "\n",
        "# Load model\n",
        "model = SentenceTransformer('all-MiniLM-L6-v2')  # small and fast\n",
        "\n",
        "# Encode job descriptions\n",
        "job_embeddings = model.encode(df['description'].tolist(), convert_to_tensor=True)\n",
        "\n",
        "\n",
        "# converting the pdf to docx\n",
        "from pdf2docx import Converter\n",
        "\n",
        "pdf_file = '/content/drive/MyDrive/Resume.pdf'\n",
        "docx_file = 'Resume.docx'\n",
        "\n",
        "cv = Converter(pdf_file)\n",
        "cv.convert(docx_file)  # Entire document\n",
        "cv.close()\n",
        "\n",
        "''' Load and process resume from PDF\n",
        "with fitz.open(\"Resume.pdf\") as doc:\n",
        "    resume_text = \"\"\n",
        "    for page in doc:\n",
        "        resume_text += page.get_text()'''\n",
        "from docx import Document\n",
        "\n",
        "doc = Document('Resume.docx')\n",
        "resume_text = \"\"\n",
        "for para in doc.paragraphs:\n",
        "    resume_text += para.text + \" \"\n",
        "\n",
        "\n",
        "resume_embedding = model.encode(resume_text, convert_to_tensor=True)\n",
        "\n",
        "# Compute similarity\n",
        "cosine_scores = util.cos_sim(resume_embedding, job_embeddings)[0].cpu().numpy()\n",
        "df['similarity_score'] = cosine_scores\n",
        "\n",
        "# Top 5 recommendations\n",
        "top_matches = df.sort_values(by='similarity_score', ascending=False).head(5)\n",
        "print(top_matches[['title', 'company_name', 'work_type', 'location', 'zip_code',\n",
        "                   'max_salary', 'formatted_work_type', 'skills_desc',\n",
        "                   'similarity_score', 'description']])\n"
      ],
      "metadata": {
        "colab": {
          "base_uri": "https://localhost:8080/"
        },
        "id": "JZYMMGs_1-xN",
        "outputId": "4e2c8fe2-b8cc-4305-8875-59e0360ece08"
      },
      "execution_count": 5,
      "outputs": [
        {
          "output_type": "stream",
          "name": "stdout",
          "text": [
            "Requirement already satisfied: pdf2docx in /usr/local/lib/python3.11/dist-packages (0.5.8)\n",
            "Requirement already satisfied: PyMuPDF>=1.19.0 in /usr/local/lib/python3.11/dist-packages (from pdf2docx) (1.25.5)\n",
            "Requirement already satisfied: python-docx>=0.8.10 in /usr/local/lib/python3.11/dist-packages (from pdf2docx) (1.1.2)\n",
            "Requirement already satisfied: fonttools>=4.24.0 in /usr/local/lib/python3.11/dist-packages (from pdf2docx) (4.57.0)\n",
            "Requirement already satisfied: numpy>=1.17.2 in /usr/local/lib/python3.11/dist-packages (from pdf2docx) (2.0.2)\n",
            "Requirement already satisfied: opencv-python-headless>=4.5 in /usr/local/lib/python3.11/dist-packages (from pdf2docx) (4.11.0.86)\n",
            "Requirement already satisfied: fire>=0.3.0 in /usr/local/lib/python3.11/dist-packages (from pdf2docx) (0.7.0)\n",
            "Requirement already satisfied: termcolor in /usr/local/lib/python3.11/dist-packages (from fire>=0.3.0->pdf2docx) (3.0.1)\n",
            "Requirement already satisfied: lxml>=3.1.0 in /usr/local/lib/python3.11/dist-packages (from python-docx>=0.8.10->pdf2docx) (5.3.2)\n",
            "Requirement already satisfied: typing-extensions>=4.9.0 in /usr/local/lib/python3.11/dist-packages (from python-docx>=0.8.10->pdf2docx) (4.13.2)\n",
            "                             title        company_name  work_type  \\\n",
            "36     software support specialist  Recruitment Design  FULL_TIME   \n",
            "486              frontend engineer              Prepto  FULL_TIME   \n",
            "354  engineers  marketing  various         GlobalStake  FULL_TIME   \n",
            "607   junior engineer  full remote           Joinrs US  FULL_TIME   \n",
            "428          lead dotnet developer                   0  FULL_TIME   \n",
            "\n",
            "            location  zip_code  max_salary formatted_work_type  \\\n",
            "36        McLean, VA   22101.0    65000.00           Full-time   \n",
            "486  Santa Clara, CA   95050.0   125000.00           Full-time   \n",
            "354    United States       NaN       16.00           Full-time   \n",
            "607    United States       NaN    90000.00           Full-time   \n",
            "428      Atlanta, GA   30303.0       20.98           Full-time   \n",
            "\n",
            "                                           skills_desc  similarity_score  \\\n",
            "36   software support specialist are you driven by ...          0.588516   \n",
            "486  frontend engineer the ideal candidate will be ...          0.565554   \n",
            "354  engineers  marketing  various general rolewe a...          0.563843   \n",
            "607  junior engineer  full remote our goal is to he...          0.555606   \n",
            "428  lead dotnet developer hi hope you are doing go...          0.555476   \n",
            "\n",
            "                                           description  \n",
            "36   are you driven by the thrill of solving proble...  \n",
            "486  the ideal candidate will be responsible for de...  \n",
            "354  general rolewe are hiring for engineers market...  \n",
            "607  our goal is to help every recent graduate worl...  \n",
            "428  hi hope you are doing good please let me know ...  \n"
          ]
        }
      ]
    }
  ]
}